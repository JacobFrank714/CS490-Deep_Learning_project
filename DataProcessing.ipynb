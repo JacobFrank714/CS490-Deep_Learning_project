{
 "cells": [
  {
   "cell_type": "code",
   "execution_count": 10,
   "metadata": {},
   "outputs": [],
   "source": [
    "import pandas as pd"
   ]
  },
  {
   "cell_type": "code",
   "execution_count": 11,
   "metadata": {},
   "outputs": [],
   "source": [
    "Games = pd.read_csv(\"All_Matches_Raw.csv\")"
   ]
  },
  {
   "cell_type": "code",
   "execution_count": 12,
   "metadata": {},
   "outputs": [],
   "source": [
    "Games = Games.drop_duplicates(subset='ID', keep=\"first\")"
   ]
  },
  {
   "cell_type": "code",
   "execution_count": 13,
   "metadata": {},
   "outputs": [],
   "source": [
    "Games = Games[Games.Top_Current_Champ != '0']\n",
    "Games = Games[Games.Jg_Current_Champ != '0']\n",
    "Games = Games[Games.Mid_Current_Champ != '0']\n",
    "Games = Games[Games.Bot_Current_Champ != '0']\n",
    "Games = Games[Games.Sup_Current_Champ != '0']\n",
    "Games = Games[Games.Top_Enemy_Champ != '0']\n",
    "Games = Games[Games.Jg_Enemy_Champ != '0']\n",
    "Games = Games[Games.Mid_Enemy_Champ != '0']\n",
    "Games = Games[Games.Bot_Enemy_Champ != '0']\n",
    "Games = Games[Games.Sup_Enemy_Champ != '0']"
   ]
  },
  {
   "cell_type": "code",
   "execution_count": 14,
   "metadata": {},
   "outputs": [],
   "source": [
    "for ind in Games.index:\n",
    "    x = (\n",
    "            Games['Top_Win'][ind]+Games['Top_Lose'][ind]+\n",
    "            Games['Jg_Win'][ind]+Games['Jg_Lose'][ind]+\n",
    "            Games['Mid_Win'][ind]+Games['Mid_Lose'][ind]+\n",
    "            Games['Bot_Win'][ind]+Games['Bot_Lose'][ind]+\n",
    "            Games['Sup_Win'][ind]+Games['Sup_Lose'][ind]\n",
    "        )\n",
    "    if x!=100:\n",
    "        Games.drop(index=ind,inplace=True)"
   ]
  },
  {
   "cell_type": "code",
   "execution_count": 15,
   "metadata": {},
   "outputs": [],
   "source": [
    "Games[\"Win\"] = Games[\"Win\"].astype(int)\n",
    "\n",
    "Games[\"Side\"] = Games[\"Side\"].astype('category')\n",
    "Games[\"Side\"] = Games[\"Side\"].cat.codes\n",
    "\n",
    "Games.drop(['ID'], axis=1, inplace=True)"
   ]
  },
  {
   "cell_type": "code",
   "execution_count": 16,
   "metadata": {},
   "outputs": [],
   "source": [
    "Games.to_csv('All_Matches.csv',index=False)"
   ]
  },
  {
   "cell_type": "code",
   "execution_count": 21,
   "metadata": {},
   "outputs": [
    {
     "data": {
      "text/plain": [
       "Diamond     5472\n",
       "Platinum    3824\n",
       "Gold        2985\n",
       "Silver      2719\n",
       "Name: Rank, dtype: int64"
      ]
     },
     "execution_count": 21,
     "metadata": {},
     "output_type": "execute_result"
    }
   ],
   "source": [
    "Games['Rank'].value_counts()"
   ]
  }
 ],
 "metadata": {
  "interpreter": {
   "hash": "435d0e8858e95bf99d49c65e9620e6ce1bbece1b398b9a76f5562c3dd3ad096e"
  },
  "kernelspec": {
   "display_name": "Python 3.9.0 64-bit",
   "language": "python",
   "name": "python3"
  },
  "language_info": {
   "codemirror_mode": {
    "name": "ipython",
    "version": 3
   },
   "file_extension": ".py",
   "mimetype": "text/x-python",
   "name": "python",
   "nbconvert_exporter": "python",
   "pygments_lexer": "ipython3",
   "version": "3.9.0"
  },
  "orig_nbformat": 4
 },
 "nbformat": 4,
 "nbformat_minor": 2
}
