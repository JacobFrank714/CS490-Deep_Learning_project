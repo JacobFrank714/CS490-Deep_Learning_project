{
 "cells": [
  {
   "cell_type": "code",
   "execution_count": 1,
   "metadata": {},
   "outputs": [],
   "source": [
    "import pandas as pd"
   ]
  },
  {
   "cell_type": "code",
   "execution_count": 2,
   "metadata": {},
   "outputs": [],
   "source": [
    "# read in the full dataset\n",
    "\n",
    "Games = pd.read_csv(\"All_Matches_Raw.csv\")"
   ]
  },
  {
   "cell_type": "code",
   "execution_count": 3,
   "metadata": {},
   "outputs": [],
   "source": [
    "# drop all duplicate match ids\n",
    "\n",
    "Games = Games.drop_duplicates(subset='ID', keep=\"first\")"
   ]
  },
  {
   "cell_type": "code",
   "execution_count": 4,
   "metadata": {},
   "outputs": [],
   "source": [
    "# drop all rows that bugged and have '0' as champion name\n",
    "\n",
    "Games = Games[Games.Top_Current_Champ != '0']\n",
    "Games = Games[Games.Jg_Current_Champ != '0']\n",
    "Games = Games[Games.Mid_Current_Champ != '0']\n",
    "Games = Games[Games.Bot_Current_Champ != '0']\n",
    "Games = Games[Games.Sup_Current_Champ != '0']\n",
    "Games = Games[Games.Top_Enemy_Champ != '0']\n",
    "Games = Games[Games.Jg_Enemy_Champ != '0']\n",
    "Games = Games[Games.Mid_Enemy_Champ != '0']\n",
    "Games = Games[Games.Bot_Enemy_Champ != '0']\n",
    "Games = Games[Games.Sup_Enemy_Champ != '0']"
   ]
  },
  {
   "cell_type": "code",
   "execution_count": 5,
   "metadata": {},
   "outputs": [],
   "source": [
    "# Sum the win and lose column for each player and make sure it is 100, if not drop the row\n",
    "\n",
    "for ind in Games.index:\n",
    "    x = (\n",
    "            Games['Top_Win'][ind]+Games['Top_Lose'][ind]+\n",
    "            Games['Jg_Win'][ind]+Games['Jg_Lose'][ind]+\n",
    "            Games['Mid_Win'][ind]+Games['Mid_Lose'][ind]+\n",
    "            Games['Bot_Win'][ind]+Games['Bot_Lose'][ind]+\n",
    "            Games['Sup_Win'][ind]+Games['Sup_Lose'][ind]\n",
    "        )\n",
    "    if x!=100:\n",
    "        Games.drop(index=ind,inplace=True)"
   ]
  },
  {
   "cell_type": "code",
   "execution_count": 6,
   "metadata": {},
   "outputs": [],
   "source": [
    "# turn Win and Side to binary values\n",
    "\n",
    "Games[\"Win\"] = Games[\"Win\"].astype(int)\n",
    "\n",
    "Games[\"Side\"] = Games[\"Side\"].astype('category')\n",
    "Games[\"Side\"] = Games[\"Side\"].cat.codes\n",
    "\n",
    "Games.drop(['ID'], axis=1, inplace=True)"
   ]
  },
  {
   "cell_type": "code",
   "execution_count": 7,
   "metadata": {},
   "outputs": [],
   "source": [
    "# save to processed data to new csv\n",
    "\n",
    "Games.to_csv('All_Matches.csv',index=False)"
   ]
  },
  {
   "cell_type": "code",
   "execution_count": 8,
   "metadata": {},
   "outputs": [
    {
     "data": {
      "text/plain": [
       "Diamond     5472\n",
       "Platinum    3824\n",
       "Gold        2985\n",
       "Silver      2719\n",
       "Name: Rank, dtype: int64"
      ]
     },
     "execution_count": 8,
     "metadata": {},
     "output_type": "execute_result"
    }
   ],
   "source": [
    "Games['Rank'].value_counts()"
   ]
  }
 ],
 "metadata": {
  "interpreter": {
   "hash": "6c3a690832072b0bb6efc7c42b10bb68f5f79b08d22612911495608130451ffe"
  },
  "kernelspec": {
   "display_name": "Python 3.9.0 64-bit",
   "language": "python",
   "name": "python3"
  },
  "language_info": {
   "codemirror_mode": {
    "name": "ipython",
    "version": 3
   },
   "file_extension": ".py",
   "mimetype": "text/x-python",
   "name": "python",
   "nbconvert_exporter": "python",
   "pygments_lexer": "ipython3",
   "version": "3.9.0"
  },
  "orig_nbformat": 4
 },
 "nbformat": 4,
 "nbformat_minor": 2
}
