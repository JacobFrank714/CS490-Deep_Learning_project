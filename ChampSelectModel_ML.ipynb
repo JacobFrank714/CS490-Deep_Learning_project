{
 "cells": [
  {
   "cell_type": "code",
   "execution_count": 1,
   "metadata": {},
   "outputs": [
    {
     "name": "stderr",
     "output_type": "stream",
     "text": [
      "c:\\Users\\Tigran\\AppData\\Local\\Programs\\Python\\Python39\\lib\\site-packages\\sklearn\\experimental\\enable_hist_gradient_boosting.py:16: UserWarning: Since version 1.0, it is not needed to import enable_hist_gradient_boosting anymore. HistGradientBoostingClassifier and HistGradientBoostingRegressor are now stable and can be normally imported from sklearn.ensemble.\n",
      "  warnings.warn(\n"
     ]
    }
   ],
   "source": [
    "import numpy as np\n",
    "import pandas as pd\n",
    "import tensorflow as tf\n",
    "import cassiopeia as cass\n",
    "import matplotlib.pyplot as plt\n",
    "import seaborn as sns\n",
    "\n",
    "from sklearn.ensemble import StackingClassifier\n",
    "from sklearn.ensemble import VotingClassifier\n",
    "from sklearn.preprocessing import StandardScaler\n",
    "from sklearn.preprocessing import MinMaxScaler\n",
    "from boruta import BorutaPy\n",
    "from xgboost import XGBClassifier\n",
    "from sklearn.discriminant_analysis import LinearDiscriminantAnalysis\n",
    "from sklearn.utils import shuffle\n",
    "from sklearn.model_selection import train_test_split\n",
    "from sklearn.svm import SVC\n",
    "from sklearn.neighbors import KNeighborsClassifier\n",
    "from sklearn import svm\n",
    "from sklearn.metrics import accuracy_score\n",
    "from sklearn.naive_bayes import BernoulliNB\n",
    "from sklearn.naive_bayes import GaussianNB\n",
    "from sklearn.naive_bayes import MultinomialNB\n",
    "from sklearn.ensemble import GradientBoostingClassifier\n",
    "from sklearn.ensemble import RandomForestClassifier\n",
    "from sklearn.tree import DecisionTreeClassifier\n",
    "from sklearn.linear_model import LogisticRegression\n",
    "from sklearn.linear_model import SGDClassifier\n",
    "from sklearn.ensemble import AdaBoostClassifier\n",
    "from sklearn.discriminant_analysis import QuadraticDiscriminantAnalysis\n",
    "from sklearn.ensemble import BaggingClassifier\n",
    "from sklearn.ensemble import ExtraTreesClassifier\n",
    "from sklearn.experimental import enable_hist_gradient_boosting\n",
    "from sklearn.ensemble import HistGradientBoostingClassifier\n",
    "from sklearn.neural_network import MLPClassifier"
   ]
  },
  {
   "cell_type": "code",
   "execution_count": 2,
   "metadata": {},
   "outputs": [],
   "source": [
    "All_Games = pd.read_csv(\"All_Matches.csv\")"
   ]
  },
  {
   "cell_type": "code",
   "execution_count": 3,
   "metadata": {},
   "outputs": [
    {
     "data": {
      "text/plain": [
       "(15000, 148)"
      ]
     },
     "execution_count": 3,
     "metadata": {},
     "output_type": "execute_result"
    }
   ],
   "source": [
    "All_Games.shape"
   ]
  },
  {
   "cell_type": "code",
   "execution_count": 4,
   "metadata": {},
   "outputs": [],
   "source": [
    "one_hot_encoded_data = pd.get_dummies(All_Games, columns = [\"Rank\",\"Top_Current_Champ\", \"Jg_Current_Champ\", \"Mid_Current_Champ\", \"Bot_Current_Champ\", \"Sup_Current_Champ\",\"Top_Enemy_Champ\", \"Jg_Enemy_Champ\", \"Mid_Enemy_Champ\", \"Bot_Enemy_Champ\", \"Sup_Enemy_Champ\"])"
   ]
  },
  {
   "cell_type": "code",
   "execution_count": 5,
   "metadata": {},
   "outputs": [
    {
     "data": {
      "text/html": [
       "<div>\n",
       "<style scoped>\n",
       "    .dataframe tbody tr th:only-of-type {\n",
       "        vertical-align: middle;\n",
       "    }\n",
       "\n",
       "    .dataframe tbody tr th {\n",
       "        vertical-align: top;\n",
       "    }\n",
       "\n",
       "    .dataframe thead th {\n",
       "        text-align: right;\n",
       "    }\n",
       "</style>\n",
       "<table border=\"1\" class=\"dataframe\">\n",
       "  <thead>\n",
       "    <tr style=\"text-align: right;\">\n",
       "      <th></th>\n",
       "      <th>Win</th>\n",
       "      <th>Side</th>\n",
       "      <th>Top_games_on_role</th>\n",
       "      <th>Top_games_on_champ</th>\n",
       "      <th>Top_Win</th>\n",
       "      <th>Top_Lose</th>\n",
       "      <th>Top_Win_2</th>\n",
       "      <th>Top_Win_5</th>\n",
       "      <th>Jg_games_on_role</th>\n",
       "      <th>Jg_games_on_champ</th>\n",
       "      <th>...</th>\n",
       "      <th>Sup_Enemy_Champ_Xin Zhao</th>\n",
       "      <th>Sup_Enemy_Champ_Yasuo</th>\n",
       "      <th>Sup_Enemy_Champ_Yuumi</th>\n",
       "      <th>Sup_Enemy_Champ_Zac</th>\n",
       "      <th>Sup_Enemy_Champ_Zed</th>\n",
       "      <th>Sup_Enemy_Champ_Zeri</th>\n",
       "      <th>Sup_Enemy_Champ_Ziggs</th>\n",
       "      <th>Sup_Enemy_Champ_Zilean</th>\n",
       "      <th>Sup_Enemy_Champ_Zoe</th>\n",
       "      <th>Sup_Enemy_Champ_Zyra</th>\n",
       "    </tr>\n",
       "  </thead>\n",
       "  <tbody>\n",
       "    <tr>\n",
       "      <th>0</th>\n",
       "      <td>1</td>\n",
       "      <td>0</td>\n",
       "      <td>18</td>\n",
       "      <td>5</td>\n",
       "      <td>16</td>\n",
       "      <td>4</td>\n",
       "      <td>2</td>\n",
       "      <td>3</td>\n",
       "      <td>9</td>\n",
       "      <td>1</td>\n",
       "      <td>...</td>\n",
       "      <td>0</td>\n",
       "      <td>0</td>\n",
       "      <td>0</td>\n",
       "      <td>0</td>\n",
       "      <td>0</td>\n",
       "      <td>0</td>\n",
       "      <td>0</td>\n",
       "      <td>0</td>\n",
       "      <td>0</td>\n",
       "      <td>0</td>\n",
       "    </tr>\n",
       "    <tr>\n",
       "      <th>1</th>\n",
       "      <td>0</td>\n",
       "      <td>0</td>\n",
       "      <td>20</td>\n",
       "      <td>4</td>\n",
       "      <td>14</td>\n",
       "      <td>6</td>\n",
       "      <td>1</td>\n",
       "      <td>3</td>\n",
       "      <td>13</td>\n",
       "      <td>8</td>\n",
       "      <td>...</td>\n",
       "      <td>0</td>\n",
       "      <td>0</td>\n",
       "      <td>0</td>\n",
       "      <td>0</td>\n",
       "      <td>0</td>\n",
       "      <td>0</td>\n",
       "      <td>0</td>\n",
       "      <td>0</td>\n",
       "      <td>0</td>\n",
       "      <td>0</td>\n",
       "    </tr>\n",
       "    <tr>\n",
       "      <th>2</th>\n",
       "      <td>0</td>\n",
       "      <td>1</td>\n",
       "      <td>20</td>\n",
       "      <td>2</td>\n",
       "      <td>13</td>\n",
       "      <td>7</td>\n",
       "      <td>1</td>\n",
       "      <td>2</td>\n",
       "      <td>7</td>\n",
       "      <td>1</td>\n",
       "      <td>...</td>\n",
       "      <td>0</td>\n",
       "      <td>0</td>\n",
       "      <td>0</td>\n",
       "      <td>0</td>\n",
       "      <td>0</td>\n",
       "      <td>0</td>\n",
       "      <td>0</td>\n",
       "      <td>0</td>\n",
       "      <td>0</td>\n",
       "      <td>0</td>\n",
       "    </tr>\n",
       "    <tr>\n",
       "      <th>3</th>\n",
       "      <td>1</td>\n",
       "      <td>1</td>\n",
       "      <td>19</td>\n",
       "      <td>5</td>\n",
       "      <td>16</td>\n",
       "      <td>4</td>\n",
       "      <td>0</td>\n",
       "      <td>3</td>\n",
       "      <td>16</td>\n",
       "      <td>0</td>\n",
       "      <td>...</td>\n",
       "      <td>0</td>\n",
       "      <td>0</td>\n",
       "      <td>0</td>\n",
       "      <td>0</td>\n",
       "      <td>0</td>\n",
       "      <td>0</td>\n",
       "      <td>0</td>\n",
       "      <td>0</td>\n",
       "      <td>0</td>\n",
       "      <td>0</td>\n",
       "    </tr>\n",
       "    <tr>\n",
       "      <th>4</th>\n",
       "      <td>0</td>\n",
       "      <td>0</td>\n",
       "      <td>19</td>\n",
       "      <td>11</td>\n",
       "      <td>16</td>\n",
       "      <td>4</td>\n",
       "      <td>1</td>\n",
       "      <td>4</td>\n",
       "      <td>18</td>\n",
       "      <td>0</td>\n",
       "      <td>...</td>\n",
       "      <td>0</td>\n",
       "      <td>0</td>\n",
       "      <td>1</td>\n",
       "      <td>0</td>\n",
       "      <td>0</td>\n",
       "      <td>0</td>\n",
       "      <td>0</td>\n",
       "      <td>0</td>\n",
       "      <td>0</td>\n",
       "      <td>0</td>\n",
       "    </tr>\n",
       "  </tbody>\n",
       "</table>\n",
       "<p>5 rows × 1383 columns</p>\n",
       "</div>"
      ],
      "text/plain": [
       "   Win  Side  Top_games_on_role  Top_games_on_champ  Top_Win  Top_Lose  \\\n",
       "0    1     0                 18                   5       16         4   \n",
       "1    0     0                 20                   4       14         6   \n",
       "2    0     1                 20                   2       13         7   \n",
       "3    1     1                 19                   5       16         4   \n",
       "4    0     0                 19                  11       16         4   \n",
       "\n",
       "   Top_Win_2  Top_Win_5  Jg_games_on_role  Jg_games_on_champ  ...  \\\n",
       "0          2          3                 9                  1  ...   \n",
       "1          1          3                13                  8  ...   \n",
       "2          1          2                 7                  1  ...   \n",
       "3          0          3                16                  0  ...   \n",
       "4          1          4                18                  0  ...   \n",
       "\n",
       "   Sup_Enemy_Champ_Xin Zhao  Sup_Enemy_Champ_Yasuo  Sup_Enemy_Champ_Yuumi  \\\n",
       "0                         0                      0                      0   \n",
       "1                         0                      0                      0   \n",
       "2                         0                      0                      0   \n",
       "3                         0                      0                      0   \n",
       "4                         0                      0                      1   \n",
       "\n",
       "   Sup_Enemy_Champ_Zac  Sup_Enemy_Champ_Zed  Sup_Enemy_Champ_Zeri  \\\n",
       "0                    0                    0                     0   \n",
       "1                    0                    0                     0   \n",
       "2                    0                    0                     0   \n",
       "3                    0                    0                     0   \n",
       "4                    0                    0                     0   \n",
       "\n",
       "   Sup_Enemy_Champ_Ziggs  Sup_Enemy_Champ_Zilean  Sup_Enemy_Champ_Zoe  \\\n",
       "0                      0                       0                    0   \n",
       "1                      0                       0                    0   \n",
       "2                      0                       0                    0   \n",
       "3                      0                       0                    0   \n",
       "4                      0                       0                    0   \n",
       "\n",
       "   Sup_Enemy_Champ_Zyra  \n",
       "0                     0  \n",
       "1                     0  \n",
       "2                     0  \n",
       "3                     0  \n",
       "4                     0  \n",
       "\n",
       "[5 rows x 1383 columns]"
      ]
     },
     "execution_count": 5,
     "metadata": {},
     "output_type": "execute_result"
    }
   ],
   "source": [
    "one_hot_encoded_data.head(5)"
   ]
  },
  {
   "cell_type": "code",
   "execution_count": 6,
   "metadata": {},
   "outputs": [],
   "source": [
    "X = one_hot_encoded_data.iloc[:,1:]\n",
    "y = one_hot_encoded_data.iloc[:,0]"
   ]
  },
  {
   "cell_type": "code",
   "execution_count": 7,
   "metadata": {},
   "outputs": [],
   "source": [
    "X_train, X_val, Y_train, Y_val = train_test_split(X, y, test_size=.20, shuffle=True,random_state=5)"
   ]
  },
  {
   "cell_type": "code",
   "execution_count": 12,
   "metadata": {},
   "outputs": [],
   "source": [
    "sc = MinMaxScaler()\n",
    "sc = sc.fit(X_train)\n",
    "\n",
    "X_train_scaled = sc.transform(X_train)\n",
    "X_valid_scaled = sc.transform(X_val)"
   ]
  },
  {
   "cell_type": "code",
   "execution_count": 14,
   "metadata": {},
   "outputs": [
    {
     "data": {
      "text/plain": [
       "0.5493333333333333"
      ]
     },
     "execution_count": 14,
     "metadata": {},
     "output_type": "execute_result"
    }
   ],
   "source": [
    "logistic_class = LogisticRegression(solver='sag',max_iter=1000,C=1).fit(X_train_scaled, Y_train)\n",
    "logistic_pred_proba = logistic_class.predict_proba(X_valid_scaled)\n",
    "logistic_pred = logistic_class.predict(X_valid_scaled)\n",
    "logistic_class.score(X_valid_scaled, Y_val)"
   ]
  },
  {
   "cell_type": "code",
   "execution_count": 15,
   "metadata": {},
   "outputs": [
    {
     "data": {
      "text/plain": [
       "0.5376666666666666"
      ]
     },
     "execution_count": 15,
     "metadata": {},
     "output_type": "execute_result"
    }
   ],
   "source": [
    "mlp_class = MLPClassifier(hidden_layer_sizes=(16),max_iter=200,early_stopping=True).fit(X_train_scaled, Y_train)\n",
    "mlp_pred_proba = mlp_class.predict_proba(X_valid_scaled)\n",
    "mlp_pred = mlp_class.predict(X_valid_scaled)\n",
    "mlp_class.score(X_valid_scaled, Y_val)"
   ]
  },
  {
   "cell_type": "code",
   "execution_count": 16,
   "metadata": {},
   "outputs": [],
   "source": [
    "# svm_class = SVC(kernel='linear',gamma='scale',C=0.01,probability=True).fit(X_train_scaled,Y_train)\n",
    "# svm_pred_proba = svm_class.predict_proba(X_val)\n",
    "# svm_pred = svm_class.predict(X_val)\n",
    "# svm_class.score(X_valid_scaled, Y_val)"
   ]
  },
  {
   "cell_type": "code",
   "execution_count": 17,
   "metadata": {},
   "outputs": [
    {
     "data": {
      "text/plain": [
       "0.5283333333333333"
      ]
     },
     "execution_count": 17,
     "metadata": {},
     "output_type": "execute_result"
    }
   ],
   "source": [
    "bernnb = BernoulliNB().fit(X_train, Y_train)\n",
    "bernnb_pred_proba = bernnb.predict_proba(X_val)\n",
    "bernnb_pred = bernnb.predict(X_val)\n",
    "bernnb.score(X_val, Y_val)"
   ]
  },
  {
   "cell_type": "code",
   "execution_count": 35,
   "metadata": {},
   "outputs": [
    {
     "data": {
      "text/plain": [
       "0.5326666666666666"
      ]
     },
     "execution_count": 35,
     "metadata": {},
     "output_type": "execute_result"
    }
   ],
   "source": [
    "gausnb = GaussianNB().fit(X_train,Y_train)\n",
    "gausnb_pred_proba = gausnb.predict_proba(X_val)\n",
    "gausnb_pred = gausnb.predict(X_val)\n",
    "gausnb.score(X_val, Y_val)"
   ]
  },
  {
   "cell_type": "code",
   "execution_count": 36,
   "metadata": {},
   "outputs": [
    {
     "data": {
      "text/plain": [
       "0.5336666666666666"
      ]
     },
     "execution_count": 36,
     "metadata": {},
     "output_type": "execute_result"
    }
   ],
   "source": [
    "xgb_class = XGBClassifier(use_label_encoder = False,eval_metric='error',n_estimators=500,learning_rate=0.01).fit(X_train, Y_train)\n",
    "xgb_pred_proba = xgb_class.predict_proba(X_val)\n",
    "xgb_pred = xgb_class.predict(X_val)\n",
    "xgb_class.score(X_val, Y_val)"
   ]
  },
  {
   "cell_type": "code",
   "execution_count": 21,
   "metadata": {},
   "outputs": [
    {
     "data": {
      "text/plain": [
       "0.543"
      ]
     },
     "execution_count": 21,
     "metadata": {},
     "output_type": "execute_result"
    }
   ],
   "source": [
    "lda_class = LinearDiscriminantAnalysis().fit(X_train,Y_train)\n",
    "lda_pred_proba = lda_class.predict_proba(X_val)\n",
    "lda_pred = lda_class.predict(X_val)\n",
    "lda_class.score(X_val, Y_val)"
   ]
  },
  {
   "cell_type": "code",
   "execution_count": 37,
   "metadata": {},
   "outputs": [
    {
     "data": {
      "text/plain": [
       "0.549"
      ]
     },
     "execution_count": 37,
     "metadata": {},
     "output_type": "execute_result"
    }
   ],
   "source": [
    "random_class = RandomForestClassifier(n_estimators=500, min_samples_leaf=100,min_samples_split=25, max_features=500, bootstrap=False).fit(X_train, Y_train)\n",
    "random_pred_proba = random_class.predict_proba(X_val)\n",
    "random_pred = random_class.predict(X_val)\n",
    "random_class.score(X_val, Y_val)"
   ]
  },
  {
   "cell_type": "code",
   "execution_count": 24,
   "metadata": {},
   "outputs": [
    {
     "data": {
      "text/plain": [
       "0.555"
      ]
     },
     "execution_count": 24,
     "metadata": {},
     "output_type": "execute_result"
    }
   ],
   "source": [
    "gradient_class = GradientBoostingClassifier(n_estimators=500, learning_rate=0.01,max_features=500,min_samples_split=25,min_samples_leaf=100).fit(X_train, Y_train)\n",
    "gradient_pred_proba = gradient_class.predict_proba(X_val)\n",
    "gradient_pred = gradient_class.predict(X_val)\n",
    "gradient_class.score(X_val, Y_val)"
   ]
  },
  {
   "cell_type": "code",
   "execution_count": 25,
   "metadata": {},
   "outputs": [
    {
     "data": {
      "text/plain": [
       "0.5406666666666666"
      ]
     },
     "execution_count": 25,
     "metadata": {},
     "output_type": "execute_result"
    }
   ],
   "source": [
    "histogram_class = HistGradientBoostingClassifier(loss='binary_crossentropy',learning_rate=0.01,max_iter=500).fit(X_train, Y_train)\n",
    "histogram_pred_proba = histogram_class.predict_proba(X_val)\n",
    "histogram_pred = histogram_class.predict(X_val)\n",
    "histogram_class.score(X_val, Y_val)"
   ]
  },
  {
   "cell_type": "code",
   "execution_count": 26,
   "metadata": {},
   "outputs": [
    {
     "data": {
      "text/plain": [
       "0.5553333333333333"
      ]
     },
     "execution_count": 26,
     "metadata": {},
     "output_type": "execute_result"
    }
   ],
   "source": [
    "ada_class = AdaBoostClassifier(n_estimators=500, learning_rate=0.01).fit(X_train, Y_train)\n",
    "ada_pred_proba = ada_class.predict_proba(X_val)\n",
    "ada_pred = ada_class.predict(X_val)\n",
    "ada_class.score(X_val, Y_val)"
   ]
  },
  {
   "cell_type": "code",
   "execution_count": 27,
   "metadata": {},
   "outputs": [
    {
     "data": {
      "text/plain": [
       "0.552"
      ]
     },
     "execution_count": 27,
     "metadata": {},
     "output_type": "execute_result"
    }
   ],
   "source": [
    "extra_class = ExtraTreesClassifier(n_estimators=500, min_samples_leaf=100,min_samples_split=25, max_features=500).fit(X_train, Y_train)\n",
    "extra_pred_proba = extra_class.predict_proba(X_val)\n",
    "extra_pred = extra_class.predict(X_val)\n",
    "extra_class.score(X_val, Y_val)"
   ]
  },
  {
   "cell_type": "code",
   "execution_count": 28,
   "metadata": {},
   "outputs": [],
   "source": [
    "# ensemble classifiers by averaging their prediction probabilities\n",
    "\n",
    "def EnsembleSum(*args):\n",
    "\n",
    "    # create a list to store models\n",
    "    models = []\n",
    "\n",
    "    # add all parameters to a list\n",
    "    for ar in args:\n",
    "        models.append(ar)\n",
    "\n",
    "    # create an np array to store the values\n",
    "    list = []\n",
    "    summed = np.array(list)\n",
    "\n",
    "    # get the length of how many models are inputted\n",
    "    length = len(models)\n",
    "\n",
    "    # for each model\n",
    "    for i in range(len(models[0])):\n",
    "\n",
    "        # start at 0\n",
    "        x = 0\n",
    "\n",
    "        #append the probability from each model\n",
    "        for j,_ in enumerate(models):\n",
    "            x += models[j][i][1]\n",
    "\n",
    "        # average it by the length\n",
    "        x /= length\n",
    "\n",
    "        # create the new classifaction based on the probability\n",
    "        if x > 0.5:\n",
    "            summed = np.append(summed,1)\n",
    "        else:\n",
    "            summed = np.append(summed,0)\n",
    "            \n",
    "    #return prediction array\n",
    "    return summed"
   ]
  },
  {
   "cell_type": "code",
   "execution_count": 29,
   "metadata": {},
   "outputs": [],
   "source": [
    "# ensemble classifiers by counting votes\n",
    "\n",
    "def EnsembleVote(*args):\n",
    "\n",
    "    # create a list to store models\n",
    "    models = []\n",
    "\n",
    "    # add all parameters to a list\n",
    "    for ar in args:\n",
    "        models.append(ar)\n",
    "\n",
    "    # create an np array to store the values\n",
    "    list = []\n",
    "    vote = np.array(list)\n",
    "\n",
    "    # for each model\n",
    "    for i in range(len(models[0])):\n",
    "\n",
    "        # create variables to store votes\n",
    "        class_0 = 0\n",
    "        class_1 = 0\n",
    "\n",
    "        # for each model add their vote to the correct class\n",
    "        for j,_ in enumerate(models):\n",
    "            if models[j][i] == 0:\n",
    "                class_0 += 1\n",
    "            else:\n",
    "                class_1 += 1 \n",
    "\n",
    "        # count the votes and append the new prediction\n",
    "        if class_1 > class_0:\n",
    "            vote = np.append(vote,1)\n",
    "        else:\n",
    "            vote = np.append(vote,0)\n",
    "            \n",
    "    # return the new prediction array\n",
    "    return vote"
   ]
  },
  {
   "cell_type": "code",
   "execution_count": 38,
   "metadata": {},
   "outputs": [
    {
     "data": {
      "text/html": [
       "<div>\n",
       "<style scoped>\n",
       "    .dataframe tbody tr th:only-of-type {\n",
       "        vertical-align: middle;\n",
       "    }\n",
       "\n",
       "    .dataframe tbody tr th {\n",
       "        vertical-align: top;\n",
       "    }\n",
       "\n",
       "    .dataframe thead th {\n",
       "        text-align: right;\n",
       "    }\n",
       "</style>\n",
       "<table border=\"1\" class=\"dataframe\">\n",
       "  <thead>\n",
       "    <tr style=\"text-align: right;\">\n",
       "      <th></th>\n",
       "      <th>classifier</th>\n",
       "      <th>accuracy</th>\n",
       "    </tr>\n",
       "  </thead>\n",
       "  <tbody>\n",
       "    <tr>\n",
       "      <th>9</th>\n",
       "      <td>ada</td>\n",
       "      <td>0.555333</td>\n",
       "    </tr>\n",
       "    <tr>\n",
       "      <th>7</th>\n",
       "      <td>gradient</td>\n",
       "      <td>0.555000</td>\n",
       "    </tr>\n",
       "    <tr>\n",
       "      <th>10</th>\n",
       "      <td>extra</td>\n",
       "      <td>0.552000</td>\n",
       "    </tr>\n",
       "    <tr>\n",
       "      <th>0</th>\n",
       "      <td>logistic</td>\n",
       "      <td>0.549333</td>\n",
       "    </tr>\n",
       "    <tr>\n",
       "      <th>6</th>\n",
       "      <td>random</td>\n",
       "      <td>0.549000</td>\n",
       "    </tr>\n",
       "    <tr>\n",
       "      <th>5</th>\n",
       "      <td>lda</td>\n",
       "      <td>0.543000</td>\n",
       "    </tr>\n",
       "    <tr>\n",
       "      <th>8</th>\n",
       "      <td>histogram</td>\n",
       "      <td>0.540667</td>\n",
       "    </tr>\n",
       "    <tr>\n",
       "      <th>1</th>\n",
       "      <td>mlp</td>\n",
       "      <td>0.537667</td>\n",
       "    </tr>\n",
       "    <tr>\n",
       "      <th>4</th>\n",
       "      <td>xgb</td>\n",
       "      <td>0.533667</td>\n",
       "    </tr>\n",
       "    <tr>\n",
       "      <th>3</th>\n",
       "      <td>gaus</td>\n",
       "      <td>0.532667</td>\n",
       "    </tr>\n",
       "    <tr>\n",
       "      <th>2</th>\n",
       "      <td>bern</td>\n",
       "      <td>0.528333</td>\n",
       "    </tr>\n",
       "  </tbody>\n",
       "</table>\n",
       "</div>"
      ],
      "text/plain": [
       "   classifier  accuracy\n",
       "9         ada  0.555333\n",
       "7    gradient  0.555000\n",
       "10      extra  0.552000\n",
       "0    logistic  0.549333\n",
       "6      random  0.549000\n",
       "5         lda  0.543000\n",
       "8   histogram  0.540667\n",
       "1         mlp  0.537667\n",
       "4         xgb  0.533667\n",
       "3        gaus  0.532667\n",
       "2        bern  0.528333"
      ]
     },
     "execution_count": 38,
     "metadata": {},
     "output_type": "execute_result"
    }
   ],
   "source": [
    "# create a list to hold accuracies and models\n",
    "data = []\n",
    "\n",
    "# add each model as a list\n",
    "\n",
    "#print(\"svm:       \", svm_class.score(X_valid_scaled, Y_val))\n",
    "data.append(['logistic',logistic_class.score(X_valid_scaled, Y_val)])\n",
    "data.append(['mlp',mlp_class.score(X_valid_scaled, Y_val)])\n",
    "data.append(['bern',bernnb.score(X_val, Y_val)])\n",
    "data.append(['gaus',gausnb.score(X_val, Y_val)])\n",
    "data.append(['xgb',xgb_class.score(X_val, Y_val)])\n",
    "data.append(['lda',lda_class.score(X_val, Y_val)])\n",
    "data.append(['random',random_class.score(X_val, Y_val)])\n",
    "data.append(['gradient',gradient_class.score(X_val, Y_val)])\n",
    "data.append(['histogram',histogram_class.score(X_val, Y_val)])\n",
    "data.append(['ada',ada_class.score(X_val, Y_val)])\n",
    "data.append(['extra',extra_class.score(X_val, Y_val)])\n",
    "\n",
    "\n",
    "# append it to a datagrame and then output it sorted by accuracies\n",
    "df = pd.DataFrame(data, columns=['classifier', 'accuracy']).sort_values(by=['accuracy'],ascending=False).head(30)\n",
    "df"
   ]
  },
  {
   "cell_type": "code",
   "execution_count": 45,
   "metadata": {},
   "outputs": [
    {
     "name": "stdout",
     "output_type": "stream",
     "text": [
      "0.5603333333333333\n"
     ]
    }
   ],
   "source": [
    "\n",
    "# call the ensemble functions and measure their new accuracies\n",
    "\n",
    "# new_predictions_sum = EnsembleSum(extra_pred_proba,random_pred_proba,ada_pred_proba)\n",
    "# print(accuracy_score(new_predictions_sum,Y_val))\n",
    "\n",
    "new_predictions_vote = EnsembleVote(ada_pred,gradient_pred,extra_pred,logistic_pred,random_pred)\n",
    "print(accuracy_score(new_predictions_vote,Y_val))"
   ]
  }
 ],
 "metadata": {
  "interpreter": {
   "hash": "6c3a690832072b0bb6efc7c42b10bb68f5f79b08d22612911495608130451ffe"
  },
  "kernelspec": {
   "display_name": "Python 3.9.0 64-bit",
   "language": "python",
   "name": "python3"
  },
  "language_info": {
   "codemirror_mode": {
    "name": "ipython",
    "version": 3
   },
   "file_extension": ".py",
   "mimetype": "text/x-python",
   "name": "python",
   "nbconvert_exporter": "python",
   "pygments_lexer": "ipython3",
   "version": "3.9.0"
  }
 },
 "nbformat": 4,
 "nbformat_minor": 2
}
